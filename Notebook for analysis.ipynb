{
 "cells": [
  {
   "cell_type": "markdown",
   "metadata": {},
   "source": [
    "# 1. Introduction"
   ]
  },
  {
   "cell_type": "markdown",
   "metadata": {},
   "source": [
    "### 1.1 Background"
   ]
  },
  {
   "cell_type": "markdown",
   "metadata": {},
   "source": [
    "I have been living in the New York City for 3 years and it has been a dream tour place for a lot of people. The prices of the hotels in the NYC is notoriusly high and as a result, while some people are rich enough, most people prefer to find alternative residences. Some of them decided to live far a way from the city and take a bus or train there for tour, while others chose to live in an Airbnb."
   ]
  },
  {
   "cell_type": "markdown",
   "metadata": {},
   "source": [
    "### 1.2 Problem"
   ]
  },
  {
   "cell_type": "markdown",
   "metadata": {},
   "source": [
    "It is always hard to find a good Airbnb for travelers new to the New York City. There are a lot of factors to considers, such as food, neighbourhood, locations, house reviews, availabilities, and etc. Customers usually have to do intensive research on the locations to mine the information about the factors they care, and this could be time consuming. Often people relies on some online reviews or recommendations but his is also inefficient. In this case, a clustering of the house choices could be both commercially and economically valuable."
   ]
  },
  {
   "cell_type": "markdown",
   "metadata": {},
   "source": [
    "### 1.3 Methods"
   ]
  },
  {
   "cell_type": "markdown",
   "metadata": {},
   "source": [
    "To create the model the recommendation system, I used the KMeans unsupervised learning to cluster the houses first, and then grouped their centroids, and choose centroids with the criterion from the customers, and generate recommendatin from the centroids for the customers"
   ]
  },
  {
   "cell_type": "markdown",
   "metadata": {},
   "source": [
    "#  2. Data Descriptions"
   ]
  },
  {
   "cell_type": "markdown",
   "metadata": {},
   "source": [
    "### 2.1 Data Acquisition"
   ]
  },
  {
   "cell_type": "markdown",
   "metadata": {},
   "source": [
    "The data comes from Kaggle.com, which is a platform for data science projects data as well as competitions. This datasets is originally from Airbnb website and is therefore an official data. It describes the 2019 Airbnb house providers' listing informations. (Link: https://www.kaggle.com/dgomonov/new-york-city-airbnb-open-data)\n",
    "The data are the following:\n",
    "\n",
    "    1. location data\n",
    "    2. review data\n",
    "    3. price data\n",
    "    4. neighborhood data\n",
    "    5. availability\n",
    "\n",
    "To visualize the income and make choropleth chart, I downloaded the NYC bourough data file: \n",
    "https://data.cityofnewyork.us/City-Government/Borough-Boundaries/tqmj-j8zm\n"
   ]
  },
  {
   "cell_type": "markdown",
   "metadata": {},
   "source": [
    "### 2.2 Data Cleaning    "
   ]
  },
  {
   "cell_type": "markdown",
   "metadata": {},
   "source": [
    "The Dataset from the the Kaggle about Airbnb data was separated into two tables, numerical data and categorical data. The two tables were normalized and encoded and then combined back into one tables for modeling. The main package of the whole cleaning process is Scikit-Learn"
   ]
  },
  {
   "cell_type": "code",
   "execution_count": 1,
   "metadata": {},
   "outputs": [],
   "source": [
    "import pandas as pd\n",
    "import numpy as np\n",
    "import matplotlib.pyplot as plt\n",
    "import matplotlib\n",
    "import seaborn as sb\n",
    "\n",
    "%matplotlib inline"
   ]
  },
  {
   "cell_type": "code",
   "execution_count": 2,
   "metadata": {},
   "outputs": [],
   "source": [
    "\n",
    "raw_data = pd.read_csv('AB_NYC_2019.csv')"
   ]
  },
  {
   "cell_type": "code",
   "execution_count": null,
   "metadata": {},
   "outputs": [],
   "source": []
  },
  {
   "cell_type": "markdown",
   "metadata": {},
   "source": [
    "### 2.3 Exploratory Data Analysis"
   ]
  },
  {
   "cell_type": "code",
   "execution_count": 3,
   "metadata": {
    "scrolled": true
   },
   "outputs": [
    {
     "data": {
      "text/html": [
       "<div>\n",
       "<style scoped>\n",
       "    .dataframe tbody tr th:only-of-type {\n",
       "        vertical-align: middle;\n",
       "    }\n",
       "\n",
       "    .dataframe tbody tr th {\n",
       "        vertical-align: top;\n",
       "    }\n",
       "\n",
       "    .dataframe thead th {\n",
       "        text-align: right;\n",
       "    }\n",
       "</style>\n",
       "<table border=\"1\" class=\"dataframe\">\n",
       "  <thead>\n",
       "    <tr style=\"text-align: right;\">\n",
       "      <th></th>\n",
       "      <th>id</th>\n",
       "      <th>host_id</th>\n",
       "      <th>latitude</th>\n",
       "      <th>longitude</th>\n",
       "      <th>price</th>\n",
       "      <th>minimum_nights</th>\n",
       "      <th>number_of_reviews</th>\n",
       "      <th>reviews_per_month</th>\n",
       "      <th>calculated_host_listings_count</th>\n",
       "      <th>availability_365</th>\n",
       "    </tr>\n",
       "  </thead>\n",
       "  <tbody>\n",
       "    <tr>\n",
       "      <th>count</th>\n",
       "      <td>4.889500e+04</td>\n",
       "      <td>4.889500e+04</td>\n",
       "      <td>48895.000000</td>\n",
       "      <td>48895.000000</td>\n",
       "      <td>48895.000000</td>\n",
       "      <td>48895.000000</td>\n",
       "      <td>48895.000000</td>\n",
       "      <td>38843.000000</td>\n",
       "      <td>48895.000000</td>\n",
       "      <td>48895.000000</td>\n",
       "    </tr>\n",
       "    <tr>\n",
       "      <th>mean</th>\n",
       "      <td>1.901714e+07</td>\n",
       "      <td>6.762001e+07</td>\n",
       "      <td>40.728949</td>\n",
       "      <td>-73.952170</td>\n",
       "      <td>152.720687</td>\n",
       "      <td>7.029962</td>\n",
       "      <td>23.274466</td>\n",
       "      <td>1.373221</td>\n",
       "      <td>7.143982</td>\n",
       "      <td>112.781327</td>\n",
       "    </tr>\n",
       "    <tr>\n",
       "      <th>std</th>\n",
       "      <td>1.098311e+07</td>\n",
       "      <td>7.861097e+07</td>\n",
       "      <td>0.054530</td>\n",
       "      <td>0.046157</td>\n",
       "      <td>240.154170</td>\n",
       "      <td>20.510550</td>\n",
       "      <td>44.550582</td>\n",
       "      <td>1.680442</td>\n",
       "      <td>32.952519</td>\n",
       "      <td>131.622289</td>\n",
       "    </tr>\n",
       "    <tr>\n",
       "      <th>min</th>\n",
       "      <td>2.539000e+03</td>\n",
       "      <td>2.438000e+03</td>\n",
       "      <td>40.499790</td>\n",
       "      <td>-74.244420</td>\n",
       "      <td>0.000000</td>\n",
       "      <td>1.000000</td>\n",
       "      <td>0.000000</td>\n",
       "      <td>0.010000</td>\n",
       "      <td>1.000000</td>\n",
       "      <td>0.000000</td>\n",
       "    </tr>\n",
       "    <tr>\n",
       "      <th>25%</th>\n",
       "      <td>9.471945e+06</td>\n",
       "      <td>7.822033e+06</td>\n",
       "      <td>40.690100</td>\n",
       "      <td>-73.983070</td>\n",
       "      <td>69.000000</td>\n",
       "      <td>1.000000</td>\n",
       "      <td>1.000000</td>\n",
       "      <td>0.190000</td>\n",
       "      <td>1.000000</td>\n",
       "      <td>0.000000</td>\n",
       "    </tr>\n",
       "    <tr>\n",
       "      <th>50%</th>\n",
       "      <td>1.967728e+07</td>\n",
       "      <td>3.079382e+07</td>\n",
       "      <td>40.723070</td>\n",
       "      <td>-73.955680</td>\n",
       "      <td>106.000000</td>\n",
       "      <td>3.000000</td>\n",
       "      <td>5.000000</td>\n",
       "      <td>0.720000</td>\n",
       "      <td>1.000000</td>\n",
       "      <td>45.000000</td>\n",
       "    </tr>\n",
       "    <tr>\n",
       "      <th>75%</th>\n",
       "      <td>2.915218e+07</td>\n",
       "      <td>1.074344e+08</td>\n",
       "      <td>40.763115</td>\n",
       "      <td>-73.936275</td>\n",
       "      <td>175.000000</td>\n",
       "      <td>5.000000</td>\n",
       "      <td>24.000000</td>\n",
       "      <td>2.020000</td>\n",
       "      <td>2.000000</td>\n",
       "      <td>227.000000</td>\n",
       "    </tr>\n",
       "    <tr>\n",
       "      <th>max</th>\n",
       "      <td>3.648724e+07</td>\n",
       "      <td>2.743213e+08</td>\n",
       "      <td>40.913060</td>\n",
       "      <td>-73.712990</td>\n",
       "      <td>10000.000000</td>\n",
       "      <td>1250.000000</td>\n",
       "      <td>629.000000</td>\n",
       "      <td>58.500000</td>\n",
       "      <td>327.000000</td>\n",
       "      <td>365.000000</td>\n",
       "    </tr>\n",
       "  </tbody>\n",
       "</table>\n",
       "</div>"
      ],
      "text/plain": [
       "                 id       host_id      latitude     longitude         price  \\\n",
       "count  4.889500e+04  4.889500e+04  48895.000000  48895.000000  48895.000000   \n",
       "mean   1.901714e+07  6.762001e+07     40.728949    -73.952170    152.720687   \n",
       "std    1.098311e+07  7.861097e+07      0.054530      0.046157    240.154170   \n",
       "min    2.539000e+03  2.438000e+03     40.499790    -74.244420      0.000000   \n",
       "25%    9.471945e+06  7.822033e+06     40.690100    -73.983070     69.000000   \n",
       "50%    1.967728e+07  3.079382e+07     40.723070    -73.955680    106.000000   \n",
       "75%    2.915218e+07  1.074344e+08     40.763115    -73.936275    175.000000   \n",
       "max    3.648724e+07  2.743213e+08     40.913060    -73.712990  10000.000000   \n",
       "\n",
       "       minimum_nights  number_of_reviews  reviews_per_month  \\\n",
       "count    48895.000000       48895.000000       38843.000000   \n",
       "mean         7.029962          23.274466           1.373221   \n",
       "std         20.510550          44.550582           1.680442   \n",
       "min          1.000000           0.000000           0.010000   \n",
       "25%          1.000000           1.000000           0.190000   \n",
       "50%          3.000000           5.000000           0.720000   \n",
       "75%          5.000000          24.000000           2.020000   \n",
       "max       1250.000000         629.000000          58.500000   \n",
       "\n",
       "       calculated_host_listings_count  availability_365  \n",
       "count                    48895.000000      48895.000000  \n",
       "mean                         7.143982        112.781327  \n",
       "std                         32.952519        131.622289  \n",
       "min                          1.000000          0.000000  \n",
       "25%                          1.000000          0.000000  \n",
       "50%                          1.000000         45.000000  \n",
       "75%                          2.000000        227.000000  \n",
       "max                        327.000000        365.000000  "
      ]
     },
     "execution_count": 3,
     "metadata": {},
     "output_type": "execute_result"
    }
   ],
   "source": [
    "raw_data.describe()"
   ]
  },
  {
   "cell_type": "markdown",
   "metadata": {},
   "source": [
    "    "
   ]
  },
  {
   "cell_type": "code",
   "execution_count": 4,
   "metadata": {},
   "outputs": [
    {
     "name": "stderr",
     "output_type": "stream",
     "text": [
      "C:\\Users\\Public\\Anaconda3\\lib\\site-packages\\sklearn\\preprocessing\\data.py:334: DataConversionWarning: Data with input dtype int64, float64 were all converted to float64 by MinMaxScaler.\n",
      "  return self.partial_fit(X, y)\n"
     ]
    },
    {
     "data": {
      "text/html": [
       "<div>\n",
       "<style scoped>\n",
       "    .dataframe tbody tr th:only-of-type {\n",
       "        vertical-align: middle;\n",
       "    }\n",
       "\n",
       "    .dataframe tbody tr th {\n",
       "        vertical-align: top;\n",
       "    }\n",
       "\n",
       "    .dataframe thead th {\n",
       "        text-align: right;\n",
       "    }\n",
       "</style>\n",
       "<table border=\"1\" class=\"dataframe\">\n",
       "  <thead>\n",
       "    <tr style=\"text-align: right;\">\n",
       "      <th></th>\n",
       "      <th>0</th>\n",
       "      <th>1</th>\n",
       "      <th>2</th>\n",
       "      <th>3</th>\n",
       "      <th>4</th>\n",
       "      <th>5</th>\n",
       "      <th>6</th>\n",
       "      <th>7</th>\n",
       "      <th>8</th>\n",
       "      <th>9</th>\n",
       "    </tr>\n",
       "  </thead>\n",
       "  <tbody>\n",
       "    <tr>\n",
       "      <th>0</th>\n",
       "      <td>0.000000</td>\n",
       "      <td>0.000001</td>\n",
       "      <td>0.346932</td>\n",
       "      <td>0.511921</td>\n",
       "      <td>0.0149</td>\n",
       "      <td>0.000000</td>\n",
       "      <td>0.012739</td>\n",
       "      <td>0.003419</td>\n",
       "      <td>0.015337</td>\n",
       "      <td>1.000000</td>\n",
       "    </tr>\n",
       "    <tr>\n",
       "      <th>1</th>\n",
       "      <td>0.000002</td>\n",
       "      <td>0.000001</td>\n",
       "      <td>0.607918</td>\n",
       "      <td>0.490469</td>\n",
       "      <td>0.0225</td>\n",
       "      <td>0.000000</td>\n",
       "      <td>0.070064</td>\n",
       "      <td>0.006326</td>\n",
       "      <td>0.003067</td>\n",
       "      <td>0.972603</td>\n",
       "    </tr>\n",
       "    <tr>\n",
       "      <th>2</th>\n",
       "      <td>0.000035</td>\n",
       "      <td>0.000009</td>\n",
       "      <td>0.439518</td>\n",
       "      <td>0.535649</td>\n",
       "      <td>0.0089</td>\n",
       "      <td>0.000000</td>\n",
       "      <td>0.428344</td>\n",
       "      <td>0.079159</td>\n",
       "      <td>0.000000</td>\n",
       "      <td>0.531507</td>\n",
       "    </tr>\n",
       "    <tr>\n",
       "      <th>3</th>\n",
       "      <td>0.000068</td>\n",
       "      <td>0.000017</td>\n",
       "      <td>0.718308</td>\n",
       "      <td>0.565324</td>\n",
       "      <td>0.0080</td>\n",
       "      <td>0.007206</td>\n",
       "      <td>0.012739</td>\n",
       "      <td>0.001539</td>\n",
       "      <td>0.000000</td>\n",
       "      <td>0.000000</td>\n",
       "    </tr>\n",
       "    <tr>\n",
       "      <th>4</th>\n",
       "      <td>0.000070</td>\n",
       "      <td>0.000018</td>\n",
       "      <td>0.593287</td>\n",
       "      <td>0.506972</td>\n",
       "      <td>0.0200</td>\n",
       "      <td>0.001601</td>\n",
       "      <td>0.116242</td>\n",
       "      <td>0.009916</td>\n",
       "      <td>0.000000</td>\n",
       "      <td>0.353425</td>\n",
       "    </tr>\n",
       "  </tbody>\n",
       "</table>\n",
       "</div>"
      ],
      "text/plain": [
       "          0         1         2         3       4         5         6  \\\n",
       "0  0.000000  0.000001  0.346932  0.511921  0.0149  0.000000  0.012739   \n",
       "1  0.000002  0.000001  0.607918  0.490469  0.0225  0.000000  0.070064   \n",
       "2  0.000035  0.000009  0.439518  0.535649  0.0089  0.000000  0.428344   \n",
       "3  0.000068  0.000017  0.718308  0.565324  0.0080  0.007206  0.012739   \n",
       "4  0.000070  0.000018  0.593287  0.506972  0.0200  0.001601  0.116242   \n",
       "\n",
       "          7         8         9  \n",
       "0  0.003419  0.015337  1.000000  \n",
       "1  0.006326  0.003067  0.972603  \n",
       "2  0.079159  0.000000  0.531507  \n",
       "3  0.001539  0.000000  0.000000  \n",
       "4  0.009916  0.000000  0.353425  "
      ]
     },
     "execution_count": 4,
     "metadata": {},
     "output_type": "execute_result"
    }
   ],
   "source": [
    "from sklearn.preprocessing import MinMaxScaler\n",
    "# scaling the numerical data\n",
    "mms = MinMaxScaler()\n",
    "eda_data = raw_data.dropna().select_dtypes(exclude = ['object'])\n",
    "eda_data = pd.DataFrame(mms.fit_transform(eda_data))\n",
    "eda_data.head()"
   ]
  },
  {
   "cell_type": "code",
   "execution_count": 5,
   "metadata": {},
   "outputs": [
    {
     "data": {
      "text/plain": [
       "<matplotlib.axes._subplots.AxesSubplot at 0x22c5acc6278>"
      ]
     },
     "execution_count": 5,
     "metadata": {},
     "output_type": "execute_result"
    },
    {
     "data": {
      "image/png": "[encoded data removed]",
      "text/plain": [
       "<Figure size 864x1152 with 9 Axes>"
      ]
     },
     "metadata": {
      "needs_background": "light"
     },
     "output_type": "display_data"
    }
   ],
   "source": [
    "\n",
    "fig, axes = plt.subplots(3,3, figsize=(12, 16), sharex=False)\n",
    "sb.distplot(eda_data.iloc[:,0], ax = axes[0, 0])\n",
    "sb.distplot(eda_data.iloc[:,1], ax = axes[0, 1])\n",
    "sb.distplot(eda_data.iloc[:,2], ax = axes[0, 2])\n",
    "sb.distplot(eda_data.iloc[:,3], ax = axes[1, 0])\n",
    "sb.distplot(eda_data.iloc[:,4], ax = axes[1, 1])\n",
    "sb.distplot(eda_data.iloc[:,5], ax = axes[1, 2])\n",
    "sb.distplot(eda_data.iloc[:,6], ax = axes[2, 0])\n",
    "sb.distplot(eda_data.iloc[:,7], ax = axes[2, 1])\n",
    "sb.distplot(eda_data.iloc[:,8], ax = axes[2, 2])"
   ]
  },
  {
   "cell_type": "markdown",
   "metadata": {},
   "source": [
    "Let's see the price"
   ]
  },
  {
   "cell_type": "code",
   "execution_count": 113,
   "metadata": {},
   "outputs": [
    {
     "data": {
      "text/plain": [
       "<matplotlib.axes._subplots.AxesSubplot at 0x22c61493da0>"
      ]
     },
     "execution_count": 113,
     "metadata": {},
     "output_type": "execute_result"
    },
    {
     "data": {
      "image/png": "[encoded data removed]",
      "text/plain": [
       "<Figure size 432x288 with 1 Axes>"
      ]
     },
     "metadata": {
      "needs_background": "light"
     },
     "output_type": "display_data"
    }
   ],
   "source": [
    "# average price by neighborhood top 5 \n",
    "price_rank = raw_data[['neighbourhood', 'price']].groupby(['neighbourhood']).mean().sort_values(by = 'price', ascending = False)[: 5]\n",
    "price_rank.plot.bar()\n"
   ]
  },
  {
   "cell_type": "code",
   "execution_count": 114,
   "metadata": {},
   "outputs": [
    {
     "data": {
      "text/plain": [
       "<matplotlib.axes._subplots.AxesSubplot at 0x22c614ec0f0>"
      ]
     },
     "execution_count": 114,
     "metadata": {},
     "output_type": "execute_result"
    },
    {
     "data": {
      "image/png": "[encoded data removed]",
      "text/plain": [
       "<Figure size 432x288 with 1 Axes>"
      ]
     },
     "metadata": {
      "needs_background": "light"
     },
     "output_type": "display_data"
    }
   ],
   "source": [
    "# average availability by neighborhood top 5\n",
    "raw_data[['neighbourhood', 'availability_365']].groupby(['neighbourhood']).mean().sort_values(by = 'availability_365', ascending = False)[: 5].plot.bar()"
   ]
  },
  {
   "cell_type": "code",
   "execution_count": 115,
   "metadata": {},
   "outputs": [
    {
     "data": {
      "text/plain": [
       "<matplotlib.axes._subplots.AxesSubplot at 0x22c61554a20>"
      ]
     },
     "execution_count": 115,
     "metadata": {},
     "output_type": "execute_result"
    },
    {
     "data": {
      "image/png": "[encoded data removed]",
      "text/plain": [
       "<Figure size 432x288 with 1 Axes>"
      ]
     },
     "metadata": {
      "needs_background": "light"
     },
     "output_type": "display_data"
    }
   ],
   "source": [
    "# average review per month by neighborhood top 5 to see popularity\n",
    "raw_data[['neighbourhood', 'reviews_per_month']].groupby(['neighbourhood']).mean().sort_values(by = 'reviews_per_month', ascending = False)[: 5].plot.bar()"
   ]
  },
  {
   "cell_type": "markdown",
   "metadata": {},
   "source": [
    "# 3. Modeling"
   ]
  },
  {
   "cell_type": "markdown",
   "metadata": {},
   "source": [
    "### 3.1 Clustering"
   ]
  },
  {
   "cell_type": "markdown",
   "metadata": {},
   "source": [
    "##### 3.11 Data Cleaning"
   ]
  },
  {
   "cell_type": "code",
   "execution_count": 9,
   "metadata": {},
   "outputs": [],
   "source": [
    "\n",
    "import datetime\n",
    "# re-creating the training dataframe\n",
    "df = raw_data.iloc[:, 6:]\n",
    "df.head()\n",
    "df.dropna(inplace = True)\n"
   ]
  },
  {
   "cell_type": "code",
   "execution_count": 10,
   "metadata": {},
   "outputs": [],
   "source": [
    "\n",
    "# constructing days before last review to today\n",
    "df['last_review'] = df['last_review'].apply(lambda x: datetime.datetime.strptime(x, '%Y-%m-%d'))\n",
    "df['last_review_days'] = df['last_review'].apply(lambda x: (x - datetime.datetime.now())).dt.days\n",
    "df['last_review_days'] = df['last_review_days']*(-1)"
   ]
  },
  {
   "cell_type": "code",
   "execution_count": 11,
   "metadata": {},
   "outputs": [
    {
     "data": {
      "text/html": [
       "<div>\n",
       "<style scoped>\n",
       "    .dataframe tbody tr th:only-of-type {\n",
       "        vertical-align: middle;\n",
       "    }\n",
       "\n",
       "    .dataframe tbody tr th {\n",
       "        vertical-align: top;\n",
       "    }\n",
       "\n",
       "    .dataframe thead th {\n",
       "        text-align: right;\n",
       "    }\n",
       "</style>\n",
       "<table border=\"1\" class=\"dataframe\">\n",
       "  <thead>\n",
       "    <tr style=\"text-align: right;\">\n",
       "      <th></th>\n",
       "      <th>latitude</th>\n",
       "      <th>longitude</th>\n",
       "      <th>room_type</th>\n",
       "      <th>price</th>\n",
       "      <th>minimum_nights</th>\n",
       "      <th>number_of_reviews</th>\n",
       "      <th>last_review</th>\n",
       "      <th>reviews_per_month</th>\n",
       "      <th>calculated_host_listings_count</th>\n",
       "      <th>availability_365</th>\n",
       "      <th>last_review_days</th>\n",
       "    </tr>\n",
       "  </thead>\n",
       "  <tbody>\n",
       "    <tr>\n",
       "      <th>0</th>\n",
       "      <td>40.64749</td>\n",
       "      <td>-73.97237</td>\n",
       "      <td>Private room</td>\n",
       "      <td>149</td>\n",
       "      <td>1</td>\n",
       "      <td>9</td>\n",
       "      <td>2018-10-19</td>\n",
       "      <td>0.21</td>\n",
       "      <td>6</td>\n",
       "      <td>365</td>\n",
       "      <td>367</td>\n",
       "    </tr>\n",
       "    <tr>\n",
       "      <th>1</th>\n",
       "      <td>40.75362</td>\n",
       "      <td>-73.98377</td>\n",
       "      <td>Entire home/apt</td>\n",
       "      <td>225</td>\n",
       "      <td>1</td>\n",
       "      <td>45</td>\n",
       "      <td>2019-05-21</td>\n",
       "      <td>0.38</td>\n",
       "      <td>2</td>\n",
       "      <td>355</td>\n",
       "      <td>153</td>\n",
       "    </tr>\n",
       "    <tr>\n",
       "      <th>3</th>\n",
       "      <td>40.68514</td>\n",
       "      <td>-73.95976</td>\n",
       "      <td>Entire home/apt</td>\n",
       "      <td>89</td>\n",
       "      <td>1</td>\n",
       "      <td>270</td>\n",
       "      <td>2019-07-05</td>\n",
       "      <td>4.64</td>\n",
       "      <td>1</td>\n",
       "      <td>194</td>\n",
       "      <td>108</td>\n",
       "    </tr>\n",
       "    <tr>\n",
       "      <th>4</th>\n",
       "      <td>40.79851</td>\n",
       "      <td>-73.94399</td>\n",
       "      <td>Entire home/apt</td>\n",
       "      <td>80</td>\n",
       "      <td>10</td>\n",
       "      <td>9</td>\n",
       "      <td>2018-11-19</td>\n",
       "      <td>0.10</td>\n",
       "      <td>1</td>\n",
       "      <td>0</td>\n",
       "      <td>336</td>\n",
       "    </tr>\n",
       "    <tr>\n",
       "      <th>5</th>\n",
       "      <td>40.74767</td>\n",
       "      <td>-73.97500</td>\n",
       "      <td>Entire home/apt</td>\n",
       "      <td>200</td>\n",
       "      <td>3</td>\n",
       "      <td>74</td>\n",
       "      <td>2019-06-22</td>\n",
       "      <td>0.59</td>\n",
       "      <td>1</td>\n",
       "      <td>129</td>\n",
       "      <td>121</td>\n",
       "    </tr>\n",
       "  </tbody>\n",
       "</table>\n",
       "</div>"
      ],
      "text/plain": [
       "   latitude  longitude        room_type  price  minimum_nights  \\\n",
       "0  40.64749  -73.97237     Private room    149               1   \n",
       "1  40.75362  -73.98377  Entire home/apt    225               1   \n",
       "3  40.68514  -73.95976  Entire home/apt     89               1   \n",
       "4  40.79851  -73.94399  Entire home/apt     80              10   \n",
       "5  40.74767  -73.97500  Entire home/apt    200               3   \n",
       "\n",
       "   number_of_reviews last_review  reviews_per_month  \\\n",
       "0                  9  2018-10-19               0.21   \n",
       "1                 45  2019-05-21               0.38   \n",
       "3                270  2019-07-05               4.64   \n",
       "4                  9  2018-11-19               0.10   \n",
       "5                 74  2019-06-22               0.59   \n",
       "\n",
       "   calculated_host_listings_count  availability_365  last_review_days  \n",
       "0                               6               365               367  \n",
       "1                               2               355               153  \n",
       "3                               1               194               108  \n",
       "4                               1                 0               336  \n",
       "5                               1               129               121  "
      ]
     },
     "execution_count": 11,
     "metadata": {},
     "output_type": "execute_result"
    }
   ],
   "source": [
    "df.head()"
   ]
  },
  {
   "cell_type": "code",
   "execution_count": 14,
   "metadata": {
    "scrolled": true
   },
   "outputs": [
    {
     "data": {
      "text/html": [
       "<div>\n",
       "<style scoped>\n",
       "    .dataframe tbody tr th:only-of-type {\n",
       "        vertical-align: middle;\n",
       "    }\n",
       "\n",
       "    .dataframe tbody tr th {\n",
       "        vertical-align: top;\n",
       "    }\n",
       "\n",
       "    .dataframe thead th {\n",
       "        text-align: right;\n",
       "    }\n",
       "</style>\n",
       "<table border=\"1\" class=\"dataframe\">\n",
       "  <thead>\n",
       "    <tr style=\"text-align: right;\">\n",
       "      <th></th>\n",
       "      <th>latitude</th>\n",
       "      <th>longitude</th>\n",
       "      <th>price</th>\n",
       "      <th>minimum_nights</th>\n",
       "      <th>number_of_reviews</th>\n",
       "      <th>reviews_per_month</th>\n",
       "      <th>calculated_host_listings_count</th>\n",
       "      <th>availability_365</th>\n",
       "      <th>last_review_days</th>\n",
       "    </tr>\n",
       "  </thead>\n",
       "  <tbody>\n",
       "    <tr>\n",
       "      <th>0</th>\n",
       "      <td>40.64749</td>\n",
       "      <td>-73.97237</td>\n",
       "      <td>149</td>\n",
       "      <td>1</td>\n",
       "      <td>9</td>\n",
       "      <td>0.21</td>\n",
       "      <td>6</td>\n",
       "      <td>365</td>\n",
       "      <td>367</td>\n",
       "    </tr>\n",
       "    <tr>\n",
       "      <th>1</th>\n",
       "      <td>40.75362</td>\n",
       "      <td>-73.98377</td>\n",
       "      <td>225</td>\n",
       "      <td>1</td>\n",
       "      <td>45</td>\n",
       "      <td>0.38</td>\n",
       "      <td>2</td>\n",
       "      <td>355</td>\n",
       "      <td>153</td>\n",
       "    </tr>\n",
       "    <tr>\n",
       "      <th>3</th>\n",
       "      <td>40.68514</td>\n",
       "      <td>-73.95976</td>\n",
       "      <td>89</td>\n",
       "      <td>1</td>\n",
       "      <td>270</td>\n",
       "      <td>4.64</td>\n",
       "      <td>1</td>\n",
       "      <td>194</td>\n",
       "      <td>108</td>\n",
       "    </tr>\n",
       "    <tr>\n",
       "      <th>4</th>\n",
       "      <td>40.79851</td>\n",
       "      <td>-73.94399</td>\n",
       "      <td>80</td>\n",
       "      <td>10</td>\n",
       "      <td>9</td>\n",
       "      <td>0.10</td>\n",
       "      <td>1</td>\n",
       "      <td>0</td>\n",
       "      <td>336</td>\n",
       "    </tr>\n",
       "    <tr>\n",
       "      <th>5</th>\n",
       "      <td>40.74767</td>\n",
       "      <td>-73.97500</td>\n",
       "      <td>200</td>\n",
       "      <td>3</td>\n",
       "      <td>74</td>\n",
       "      <td>0.59</td>\n",
       "      <td>1</td>\n",
       "      <td>129</td>\n",
       "      <td>121</td>\n",
       "    </tr>\n",
       "  </tbody>\n",
       "</table>\n",
       "</div>"
      ],
      "text/plain": [
       "   latitude  longitude  price  minimum_nights  number_of_reviews  \\\n",
       "0  40.64749  -73.97237    149               1                  9   \n",
       "1  40.75362  -73.98377    225               1                 45   \n",
       "3  40.68514  -73.95976     89               1                270   \n",
       "4  40.79851  -73.94399     80              10                  9   \n",
       "5  40.74767  -73.97500    200               3                 74   \n",
       "\n",
       "   reviews_per_month  calculated_host_listings_count  availability_365  \\\n",
       "0               0.21                               6               365   \n",
       "1               0.38                               2               355   \n",
       "3               4.64                               1               194   \n",
       "4               0.10                               1                 0   \n",
       "5               0.59                               1               129   \n",
       "\n",
       "   last_review_days  \n",
       "0               367  \n",
       "1               153  \n",
       "3               108  \n",
       "4               336  \n",
       "5               121  "
      ]
     },
     "execution_count": 14,
     "metadata": {},
     "output_type": "execute_result"
    }
   ],
   "source": [
    "\n",
    "df_labeled = df\n",
    "df_labeled.drop(columns = ['room_type', 'last_review'], inplace =True)\n",
    "df_labeled.fillna(df_labeled.mean(), inplace = True)\n",
    "df_labeled.head()\n"
   ]
  },
  {
   "cell_type": "code",
   "execution_count": 15,
   "metadata": {},
   "outputs": [
    {
     "name": "stderr",
     "output_type": "stream",
     "text": [
      "C:\\Users\\Public\\Anaconda3\\lib\\site-packages\\sklearn\\preprocessing\\data.py:334: DataConversionWarning: Data with input dtype int64, float64 were all converted to float64 by MinMaxScaler.\n",
      "  return self.partial_fit(X, y)\n"
     ]
    }
   ],
   "source": [
    "# scale the data\n",
    "df_scaled = mms.fit_transform(df_labeled)\n"
   ]
  },
  {
   "cell_type": "markdown",
   "metadata": {},
   "source": [
    "##### 3.12 finding best k value"
   ]
  },
  {
   "cell_type": "code",
   "execution_count": 16,
   "metadata": {},
   "outputs": [],
   "source": [
    "from sklearn.cluster import KMeans \n"
   ]
  },
  {
   "cell_type": "code",
   "execution_count": 61,
   "metadata": {},
   "outputs": [],
   "source": [
    "\n",
    "# finding the best k\n",
    "distance = []\n",
    "k = []\n",
    "for x in range(1,20):\n",
    "    km = KMeans(x)\n",
    "    km.fit(df_scaled)\n",
    "    k.append(x)\n",
    "    distance.append(km.inertia_)"
   ]
  },
  {
   "cell_type": "code",
   "execution_count": 93,
   "metadata": {},
   "outputs": [
    {
     "data": {
      "text/plain": [
       "<matplotlib.axes._subplots.AxesSubplot at 0x127bb5f0b70>"
      ]
     },
     "execution_count": 93,
     "metadata": {},
     "output_type": "execute_result"
    },
    {
     "data": {
      "image/png": "[encoded data removed]",
      "text/plain": [
       "<Figure size 432x288 with 1 Axes>"
      ]
     },
     "metadata": {
      "needs_background": "light"
     },
     "output_type": "display_data"
    }
   ],
   "source": [
    "sb.lineplot(k, distance)"
   ]
  },
  {
   "cell_type": "markdown",
   "metadata": {},
   "source": [
    "According to elbow method, the proper k value should be around 6"
   ]
  },
  {
   "cell_type": "markdown",
   "metadata": {},
   "source": [
    "##### 3.13 KMeans model"
   ]
  },
  {
   "cell_type": "code",
   "execution_count": 17,
   "metadata": {},
   "outputs": [],
   "source": [
    "# let's try k = 6\n",
    "km = KMeans(6)\n",
    "km.fit(df_scaled)\n",
    "df_final = df.copy()\n",
    "df_final['cluster'] = km.labels_\n"
   ]
  },
  {
   "cell_type": "code",
   "execution_count": 18,
   "metadata": {},
   "outputs": [
    {
     "data": {
      "text/plain": [
       "Index(['latitude', 'longitude', 'price', 'minimum_nights', 'number_of_reviews',\n",
       "       'reviews_per_month', 'calculated_host_listings_count',\n",
       "       'availability_365', 'last_review_days'],\n",
       "      dtype='object')"
      ]
     },
     "execution_count": 18,
     "metadata": {},
     "output_type": "execute_result"
    }
   ],
   "source": [
    "df.columns"
   ]
  },
  {
   "cell_type": "markdown",
   "metadata": {},
   "source": [
    "Converting back the data"
   ]
  },
  {
   "cell_type": "code",
   "execution_count": 19,
   "metadata": {},
   "outputs": [
    {
     "data": {
      "text/html": [
       "<div>\n",
       "<style scoped>\n",
       "    .dataframe tbody tr th:only-of-type {\n",
       "        vertical-align: middle;\n",
       "    }\n",
       "\n",
       "    .dataframe tbody tr th {\n",
       "        vertical-align: top;\n",
       "    }\n",
       "\n",
       "    .dataframe thead th {\n",
       "        text-align: right;\n",
       "    }\n",
       "</style>\n",
       "<table border=\"1\" class=\"dataframe\">\n",
       "  <thead>\n",
       "    <tr style=\"text-align: right;\">\n",
       "      <th></th>\n",
       "      <th>latitude</th>\n",
       "      <th>longitude</th>\n",
       "      <th>price</th>\n",
       "      <th>minimum_nights</th>\n",
       "      <th>number_of_reviews</th>\n",
       "      <th>reviews_per_month</th>\n",
       "      <th>calculated_host_listings_count</th>\n",
       "      <th>availability_365</th>\n",
       "      <th>last_review_days</th>\n",
       "    </tr>\n",
       "  </thead>\n",
       "  <tbody>\n",
       "    <tr>\n",
       "      <th>0</th>\n",
       "      <td>40.790876</td>\n",
       "      <td>-73.943902</td>\n",
       "      <td>125.359923</td>\n",
       "      <td>4.669390</td>\n",
       "      <td>26.120135</td>\n",
       "      <td>1.522832</td>\n",
       "      <td>2.009451</td>\n",
       "      <td>26.737146</td>\n",
       "      <td>264.671312</td>\n",
       "    </tr>\n",
       "    <tr>\n",
       "      <th>1</th>\n",
       "      <td>40.725872</td>\n",
       "      <td>-73.943720</td>\n",
       "      <td>162.120612</td>\n",
       "      <td>8.786583</td>\n",
       "      <td>39.164987</td>\n",
       "      <td>1.584397</td>\n",
       "      <td>7.240528</td>\n",
       "      <td>320.170432</td>\n",
       "      <td>245.316186</td>\n",
       "    </tr>\n",
       "    <tr>\n",
       "      <th>2</th>\n",
       "      <td>40.726777</td>\n",
       "      <td>-73.962834</td>\n",
       "      <td>138.756196</td>\n",
       "      <td>4.657234</td>\n",
       "      <td>5.767917</td>\n",
       "      <td>0.130690</td>\n",
       "      <td>1.215673</td>\n",
       "      <td>2.460482</td>\n",
       "      <td>1172.479739</td>\n",
       "    </tr>\n",
       "    <tr>\n",
       "      <th>3</th>\n",
       "      <td>40.695564</td>\n",
       "      <td>-73.955921</td>\n",
       "      <td>128.290340</td>\n",
       "      <td>4.567458</td>\n",
       "      <td>25.803922</td>\n",
       "      <td>1.372824</td>\n",
       "      <td>1.725400</td>\n",
       "      <td>25.000720</td>\n",
       "      <td>242.304731</td>\n",
       "    </tr>\n",
       "    <tr>\n",
       "      <th>4</th>\n",
       "      <td>40.728204</td>\n",
       "      <td>-73.947270</td>\n",
       "      <td>154.643792</td>\n",
       "      <td>6.404816</td>\n",
       "      <td>47.292852</td>\n",
       "      <td>2.063374</td>\n",
       "      <td>3.787660</td>\n",
       "      <td>176.394733</td>\n",
       "      <td>200.875395</td>\n",
       "    </tr>\n",
       "    <tr>\n",
       "      <th>5</th>\n",
       "      <td>40.717777</td>\n",
       "      <td>-74.003558</td>\n",
       "      <td>271.705128</td>\n",
       "      <td>7.653846</td>\n",
       "      <td>5.594017</td>\n",
       "      <td>1.723974</td>\n",
       "      <td>316.038462</td>\n",
       "      <td>287.564103</td>\n",
       "      <td>148.085470</td>\n",
       "    </tr>\n",
       "  </tbody>\n",
       "</table>\n",
       "</div>"
      ],
      "text/plain": [
       "    latitude  longitude       price  minimum_nights  number_of_reviews  \\\n",
       "0  40.790876 -73.943902  125.359923        4.669390          26.120135   \n",
       "1  40.725872 -73.943720  162.120612        8.786583          39.164987   \n",
       "2  40.726777 -73.962834  138.756196        4.657234           5.767917   \n",
       "3  40.695564 -73.955921  128.290340        4.567458          25.803922   \n",
       "4  40.728204 -73.947270  154.643792        6.404816          47.292852   \n",
       "5  40.717777 -74.003558  271.705128        7.653846           5.594017   \n",
       "\n",
       "   reviews_per_month  calculated_host_listings_count  availability_365  \\\n",
       "0           1.522832                        2.009451         26.737146   \n",
       "1           1.584397                        7.240528        320.170432   \n",
       "2           0.130690                        1.215673          2.460482   \n",
       "3           1.372824                        1.725400         25.000720   \n",
       "4           2.063374                        3.787660        176.394733   \n",
       "5           1.723974                      316.038462        287.564103   \n",
       "\n",
       "   last_review_days  \n",
       "0        264.671312  \n",
       "1        245.316186  \n",
       "2       1172.479739  \n",
       "3        242.304731  \n",
       "4        200.875395  \n",
       "5        148.085470  "
      ]
     },
     "execution_count": 19,
     "metadata": {},
     "output_type": "execute_result"
    }
   ],
   "source": [
    "cluster_center = pd.DataFrame(mms.inverse_transform(km.cluster_centers_))\n",
    "cluster_center.columns = df.columns\n",
    "cluster_center"
   ]
  },
  {
   "cell_type": "code",
   "execution_count": 20,
   "metadata": {},
   "outputs": [
    {
     "data": {
      "text/html": [
       "<div>\n",
       "<style scoped>\n",
       "    .dataframe tbody tr th:only-of-type {\n",
       "        vertical-align: middle;\n",
       "    }\n",
       "\n",
       "    .dataframe tbody tr th {\n",
       "        vertical-align: top;\n",
       "    }\n",
       "\n",
       "    .dataframe thead th {\n",
       "        text-align: right;\n",
       "    }\n",
       "</style>\n",
       "<table border=\"1\" class=\"dataframe\">\n",
       "  <thead>\n",
       "    <tr style=\"text-align: right;\">\n",
       "      <th></th>\n",
       "      <th>latitude</th>\n",
       "      <th>longitude</th>\n",
       "      <th>price</th>\n",
       "      <th>minimum_nights</th>\n",
       "      <th>number_of_reviews</th>\n",
       "      <th>reviews_per_month</th>\n",
       "      <th>calculated_host_listings_count</th>\n",
       "      <th>availability_365</th>\n",
       "      <th>last_review_days</th>\n",
       "      <th>cluster</th>\n",
       "      <th>name</th>\n",
       "    </tr>\n",
       "  </thead>\n",
       "  <tbody>\n",
       "    <tr>\n",
       "      <th>0</th>\n",
       "      <td>40.64749</td>\n",
       "      <td>-73.97237</td>\n",
       "      <td>149</td>\n",
       "      <td>1</td>\n",
       "      <td>9</td>\n",
       "      <td>0.21</td>\n",
       "      <td>6</td>\n",
       "      <td>365</td>\n",
       "      <td>367</td>\n",
       "      <td>1</td>\n",
       "      <td>Clean &amp; quiet apt home by the park</td>\n",
       "    </tr>\n",
       "    <tr>\n",
       "      <th>1</th>\n",
       "      <td>40.75362</td>\n",
       "      <td>-73.98377</td>\n",
       "      <td>225</td>\n",
       "      <td>1</td>\n",
       "      <td>45</td>\n",
       "      <td>0.38</td>\n",
       "      <td>2</td>\n",
       "      <td>355</td>\n",
       "      <td>153</td>\n",
       "      <td>1</td>\n",
       "      <td>Skylit Midtown Castle</td>\n",
       "    </tr>\n",
       "    <tr>\n",
       "      <th>3</th>\n",
       "      <td>40.68514</td>\n",
       "      <td>-73.95976</td>\n",
       "      <td>89</td>\n",
       "      <td>1</td>\n",
       "      <td>270</td>\n",
       "      <td>4.64</td>\n",
       "      <td>1</td>\n",
       "      <td>194</td>\n",
       "      <td>108</td>\n",
       "      <td>4</td>\n",
       "      <td>Cozy Entire Floor of Brownstone</td>\n",
       "    </tr>\n",
       "    <tr>\n",
       "      <th>4</th>\n",
       "      <td>40.79851</td>\n",
       "      <td>-73.94399</td>\n",
       "      <td>80</td>\n",
       "      <td>10</td>\n",
       "      <td>9</td>\n",
       "      <td>0.10</td>\n",
       "      <td>1</td>\n",
       "      <td>0</td>\n",
       "      <td>336</td>\n",
       "      <td>0</td>\n",
       "      <td>Entire Apt: Spacious Studio/Loft by central park</td>\n",
       "    </tr>\n",
       "    <tr>\n",
       "      <th>5</th>\n",
       "      <td>40.74767</td>\n",
       "      <td>-73.97500</td>\n",
       "      <td>200</td>\n",
       "      <td>3</td>\n",
       "      <td>74</td>\n",
       "      <td>0.59</td>\n",
       "      <td>1</td>\n",
       "      <td>129</td>\n",
       "      <td>121</td>\n",
       "      <td>4</td>\n",
       "      <td>Large Cozy 1 BR Apartment In Midtown East</td>\n",
       "    </tr>\n",
       "  </tbody>\n",
       "</table>\n",
       "</div>"
      ],
      "text/plain": [
       "   latitude  longitude  price  minimum_nights  number_of_reviews  \\\n",
       "0  40.64749  -73.97237    149               1                  9   \n",
       "1  40.75362  -73.98377    225               1                 45   \n",
       "3  40.68514  -73.95976     89               1                270   \n",
       "4  40.79851  -73.94399     80              10                  9   \n",
       "5  40.74767  -73.97500    200               3                 74   \n",
       "\n",
       "   reviews_per_month  calculated_host_listings_count  availability_365  \\\n",
       "0               0.21                               6               365   \n",
       "1               0.38                               2               355   \n",
       "3               4.64                               1               194   \n",
       "4               0.10                               1                 0   \n",
       "5               0.59                               1               129   \n",
       "\n",
       "   last_review_days  cluster                                              name  \n",
       "0               367        1                Clean & quiet apt home by the park  \n",
       "1               153        1                             Skylit Midtown Castle  \n",
       "3               108        4                   Cozy Entire Floor of Brownstone  \n",
       "4               336        0  Entire Apt: Spacious Studio/Loft by central park  \n",
       "5               121        4         Large Cozy 1 BR Apartment In Midtown East  "
      ]
     },
     "execution_count": 20,
     "metadata": {},
     "output_type": "execute_result"
    }
   ],
   "source": [
    "df_final['name'] = raw_data['name']\n",
    "df_final.head()"
   ]
  },
  {
   "cell_type": "markdown",
   "metadata": {},
   "source": [
    "##### 3.4 Visualize clustering"
   ]
  },
  {
   "cell_type": "code",
   "execution_count": 21,
   "metadata": {},
   "outputs": [
    {
     "name": "stdout",
     "output_type": "stream",
     "text": [
      "Requirement already satisfied: folium in c:\\users\\public\\anaconda3\\lib\\site-packages (0.10.0)\n",
      "Requirement already satisfied: requests in c:\\users\\public\\anaconda3\\lib\\site-packages (from folium) (2.21.0)\n",
      "Requirement already satisfied: branca>=0.3.0 in c:\\users\\public\\anaconda3\\lib\\site-packages (from folium) (0.3.1)\n",
      "Requirement already satisfied: jinja2>=2.9 in c:\\users\\public\\anaconda3\\lib\\site-packages (from folium) (2.10)\n",
      "Requirement already satisfied: numpy in c:\\users\\public\\anaconda3\\lib\\site-packages (from folium) (1.16.2)\n",
      "Requirement already satisfied: certifi>=2017.4.17 in c:\\users\\public\\anaconda3\\lib\\site-packages (from requests->folium) (2019.3.9)\n",
      "Requirement already satisfied: idna<2.9,>=2.5 in c:\\users\\public\\anaconda3\\lib\\site-packages (from requests->folium) (2.8)\n",
      "Requirement already satisfied: urllib3<1.25,>=1.21.1 in c:\\users\\public\\anaconda3\\lib\\site-packages (from requests->folium) (1.24.1)\n",
      "Requirement already satisfied: chardet<3.1.0,>=3.0.2 in c:\\users\\public\\anaconda3\\lib\\site-packages (from requests->folium) (3.0.4)\n",
      "Requirement already satisfied: six in c:\\users\\public\\anaconda3\\lib\\site-packages (from branca>=0.3.0->folium) (1.12.0)\n",
      "Requirement already satisfied: MarkupSafe>=0.23 in c:\\users\\public\\anaconda3\\lib\\site-packages (from jinja2>=2.9->folium) (1.1.1)\n"
     ]
    }
   ],
   "source": [
    "!pip install folium\n",
    "import folium"
   ]
  },
  {
   "cell_type": "code",
   "execution_count": 22,
   "metadata": {},
   "outputs": [
    {
     "data": {
      "text/html": [
       "<div>\n",
       "<style scoped>\n",
       "    .dataframe tbody tr th:only-of-type {\n",
       "        vertical-align: middle;\n",
       "    }\n",
       "\n",
       "    .dataframe tbody tr th {\n",
       "        vertical-align: top;\n",
       "    }\n",
       "\n",
       "    .dataframe thead th {\n",
       "        text-align: right;\n",
       "    }\n",
       "</style>\n",
       "<table border=\"1\" class=\"dataframe\">\n",
       "  <thead>\n",
       "    <tr style=\"text-align: right;\">\n",
       "      <th></th>\n",
       "      <th>latitude</th>\n",
       "      <th>longitude</th>\n",
       "      <th>price</th>\n",
       "      <th>minimum_nights</th>\n",
       "      <th>number_of_reviews</th>\n",
       "      <th>reviews_per_month</th>\n",
       "      <th>calculated_host_listings_count</th>\n",
       "      <th>availability_365</th>\n",
       "      <th>last_review_days</th>\n",
       "      <th>name</th>\n",
       "    </tr>\n",
       "  </thead>\n",
       "  <tbody>\n",
       "    <tr>\n",
       "      <th>0</th>\n",
       "      <td>40.790876</td>\n",
       "      <td>-73.943902</td>\n",
       "      <td>125.359923</td>\n",
       "      <td>4.669390</td>\n",
       "      <td>26.120135</td>\n",
       "      <td>1.522832</td>\n",
       "      <td>2.009451</td>\n",
       "      <td>26.737146</td>\n",
       "      <td>264.671312</td>\n",
       "      <td>Cluster Group 0</td>\n",
       "    </tr>\n",
       "    <tr>\n",
       "      <th>1</th>\n",
       "      <td>40.725872</td>\n",
       "      <td>-73.943720</td>\n",
       "      <td>162.120612</td>\n",
       "      <td>8.786583</td>\n",
       "      <td>39.164987</td>\n",
       "      <td>1.584397</td>\n",
       "      <td>7.240528</td>\n",
       "      <td>320.170432</td>\n",
       "      <td>245.316186</td>\n",
       "      <td>Cluster Group 1</td>\n",
       "    </tr>\n",
       "    <tr>\n",
       "      <th>2</th>\n",
       "      <td>40.726777</td>\n",
       "      <td>-73.962834</td>\n",
       "      <td>138.756196</td>\n",
       "      <td>4.657234</td>\n",
       "      <td>5.767917</td>\n",
       "      <td>0.130690</td>\n",
       "      <td>1.215673</td>\n",
       "      <td>2.460482</td>\n",
       "      <td>1172.479739</td>\n",
       "      <td>Cluster Group 2</td>\n",
       "    </tr>\n",
       "    <tr>\n",
       "      <th>3</th>\n",
       "      <td>40.695564</td>\n",
       "      <td>-73.955921</td>\n",
       "      <td>128.290340</td>\n",
       "      <td>4.567458</td>\n",
       "      <td>25.803922</td>\n",
       "      <td>1.372824</td>\n",
       "      <td>1.725400</td>\n",
       "      <td>25.000720</td>\n",
       "      <td>242.304731</td>\n",
       "      <td>Cluster Group 3</td>\n",
       "    </tr>\n",
       "    <tr>\n",
       "      <th>4</th>\n",
       "      <td>40.728204</td>\n",
       "      <td>-73.947270</td>\n",
       "      <td>154.643792</td>\n",
       "      <td>6.404816</td>\n",
       "      <td>47.292852</td>\n",
       "      <td>2.063374</td>\n",
       "      <td>3.787660</td>\n",
       "      <td>176.394733</td>\n",
       "      <td>200.875395</td>\n",
       "      <td>Cluster Group 4</td>\n",
       "    </tr>\n",
       "    <tr>\n",
       "      <th>5</th>\n",
       "      <td>40.717777</td>\n",
       "      <td>-74.003558</td>\n",
       "      <td>271.705128</td>\n",
       "      <td>7.653846</td>\n",
       "      <td>5.594017</td>\n",
       "      <td>1.723974</td>\n",
       "      <td>316.038462</td>\n",
       "      <td>287.564103</td>\n",
       "      <td>148.085470</td>\n",
       "      <td>Cluster Group 5</td>\n",
       "    </tr>\n",
       "  </tbody>\n",
       "</table>\n",
       "</div>"
      ],
      "text/plain": [
       "    latitude  longitude       price  minimum_nights  number_of_reviews  \\\n",
       "0  40.790876 -73.943902  125.359923        4.669390          26.120135   \n",
       "1  40.725872 -73.943720  162.120612        8.786583          39.164987   \n",
       "2  40.726777 -73.962834  138.756196        4.657234           5.767917   \n",
       "3  40.695564 -73.955921  128.290340        4.567458          25.803922   \n",
       "4  40.728204 -73.947270  154.643792        6.404816          47.292852   \n",
       "5  40.717777 -74.003558  271.705128        7.653846           5.594017   \n",
       "\n",
       "   reviews_per_month  calculated_host_listings_count  availability_365  \\\n",
       "0           1.522832                        2.009451         26.737146   \n",
       "1           1.584397                        7.240528        320.170432   \n",
       "2           0.130690                        1.215673          2.460482   \n",
       "3           1.372824                        1.725400         25.000720   \n",
       "4           2.063374                        3.787660        176.394733   \n",
       "5           1.723974                      316.038462        287.564103   \n",
       "\n",
       "   last_review_days             name  \n",
       "0        264.671312  Cluster Group 0  \n",
       "1        245.316186  Cluster Group 1  \n",
       "2       1172.479739  Cluster Group 2  \n",
       "3        242.304731  Cluster Group 3  \n",
       "4        200.875395  Cluster Group 4  \n",
       "5        148.085470  Cluster Group 5  "
      ]
     },
     "execution_count": 22,
     "metadata": {},
     "output_type": "execute_result"
    }
   ],
   "source": [
    "\n",
    "cluster1 = df_final[df_final['cluster'] == 0].sort_values(by = ['reviews_per_month'], ascending = False).iloc[:10,:]\n",
    "cluster2 = df_final[df_final['cluster'] == 1].sort_values(by = ['reviews_per_month'], ascending = False).iloc[:10,:]\n",
    "cluster3 = df_final[df_final['cluster'] == 2].sort_values(by = ['reviews_per_month'], ascending = False).iloc[:10,:]\n",
    "cluster4 = df_final[df_final['cluster'] == 3].sort_values(by = ['reviews_per_month'], ascending = False).iloc[:10,:]\n",
    "cluster5 = df_final[df_final['cluster'] == 4].sort_values(by = ['reviews_per_month'], ascending = False).iloc[:10,:]\n",
    "cluster6 = df_final[df_final['cluster'] == 5].sort_values(by = ['reviews_per_month'], ascending = False).iloc[:10,:]\n",
    "cluster_center['name'] = pd.Series(cluster_center.index.values).apply(lambda x: 'Cluster Group ' + str(x))\n",
    "cluster_center"
   ]
  },
  {
   "cell_type": "code",
   "execution_count": 23,
   "metadata": {
    "scrolled": false
   },
   "outputs": [],
   "source": [
    "map = folium.Map(location=[df['latitude'].mean(), df['longitude'].mean()], zoom_start = 12)\n",
    "\n",
    "#add stickers based on clusters\n",
    "\n",
    "for x,y,n in cluster_center[['latitude', 'longitude', 'name']].values.tolist():\n",
    "    folium.Marker([x,y], tooltip=n, icon=folium.Icon(icon='cloud')).add_to(map)\n",
    "\n",
    "for x,y,n in cluster1[['latitude', 'longitude', 'name']].values.tolist():\n",
    "    folium.Marker([x,y], tooltip=n, icon=folium.Icon(color = 'red')).add_to(map)\n",
    "for x,y,n in cluster2[['latitude', 'longitude', 'name']].values.tolist():\n",
    "    folium.Marker([x,y], tooltip=n, icon=folium.Icon(color = 'blue')).add_to(map)\n",
    "for x,y,n in cluster3[['latitude', 'longitude', 'name']].values.tolist():\n",
    "    folium.Marker([x,y], tooltip=n, icon=folium.Icon(color = 'orange')).add_to(map)\n",
    "for x,y,n in cluster4[['latitude', 'longitude', 'name']].values.tolist():\n",
    "    folium.Marker([x,y], tooltip=n, icon=folium.Icon(color = 'pink')).add_to(map)\n",
    "for x,y,n in cluster5[['latitude', 'longitude', 'name']].values.tolist():\n",
    "    folium.Marker([x,y], tooltip=n, icon=folium.Icon(color = 'black')).add_to(map)\n",
    "for x,y,n in cluster6[['latitude', 'longitude', 'name']].values.tolist():\n",
    "    folium.Marker([x,y], tooltip=n, icon=folium.Icon()).add_to(map)\n"
   ]
  },
  {
   "cell_type": "code",
   "execution_count": 24,
   "metadata": {},
   "outputs": [
    {
     "data": {
      "text/html": [
       "<div style=\"width:100%;\"><div style=\"position:relative;width:100%;height:0;padding-bottom:60%;\"><iframe src=\"data:text/html;charset=utf-8;base64,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\" style=\"position:absolute;width:100%;height:100%;left:0;top:0;border:none !important;\" allowfullscreen webkitallowfullscreen mozallowfullscreen></iframe></div></div>"
      ],
      "text/plain": [
       "<folium.folium.Map at 0x22c5f30a0b8>"
      ]
     },
     "execution_count": 24,
     "metadata": {},
     "output_type": "execute_result"
    }
   ],
   "source": [
    "map # due to large number of clusters I only showed 5 clusters, but showed the centroids of all 16 groups with the icon 'cloud'"
   ]
  },
  {
   "cell_type": "markdown",
   "metadata": {},
   "source": [
    "### 3.2 Clustering-based Recommendation System"
   ]
  },
  {
   "cell_type": "markdown",
   "metadata": {},
   "source": [
    "Now let's work on how to select a group"
   ]
  },
  {
   "cell_type": "markdown",
   "metadata": {},
   "source": [
    "Note this is not a collaborative filtering or content based filtering! This is a simple ranking method which only allow us to choose the one most important factor!"
   ]
  },
  {
   "cell_type": "code",
   "execution_count": 25,
   "metadata": {},
   "outputs": [],
   "source": [
    "cluster_sc = cluster_center.copy()\n",
    "cluster_sc['price'] = cluster_center['price'] * -1\n",
    "cluster_sc['minimum_nights'] = cluster_center['minimum_nights'] * -1\n",
    "cluster_sc['last_review_days'] = cluster_center['last_review_days'] * -1\n"
   ]
  },
  {
   "cell_type": "code",
   "execution_count": null,
   "metadata": {},
   "outputs": [],
   "source": []
  },
  {
   "cell_type": "code",
   "execution_count": 26,
   "metadata": {},
   "outputs": [
    {
     "data": {
      "text/plain": [
       "['price',\n",
       " 'minimum_nights',\n",
       " 'number_of_reviews',\n",
       " 'reviews_per_month',\n",
       " 'calculated_host_listings_count',\n",
       " 'availability_365',\n",
       " 'last_review_days']"
      ]
     },
     "execution_count": 26,
     "metadata": {},
     "output_type": "execute_result"
    }
   ],
   "source": [
    "criterion = cluster_sc.columns.values.tolist()[2:-1]\n",
    "criterion"
   ]
  },
  {
   "cell_type": "code",
   "execution_count": 46,
   "metadata": {},
   "outputs": [
    {
     "data": {
      "text/html": [
       "<div>\n",
       "<style scoped>\n",
       "    .dataframe tbody tr th:only-of-type {\n",
       "        vertical-align: middle;\n",
       "    }\n",
       "\n",
       "    .dataframe tbody tr th {\n",
       "        vertical-align: top;\n",
       "    }\n",
       "\n",
       "    .dataframe thead th {\n",
       "        text-align: right;\n",
       "    }\n",
       "</style>\n",
       "<table border=\"1\" class=\"dataframe\">\n",
       "  <thead>\n",
       "    <tr style=\"text-align: right;\">\n",
       "      <th></th>\n",
       "      <th>name</th>\n",
       "      <th>price rank</th>\n",
       "      <th>minimum_nights rank</th>\n",
       "      <th>number_of_reviews rank</th>\n",
       "      <th>reviews_per_month rank</th>\n",
       "      <th>calculated_host_listings_count rank</th>\n",
       "      <th>availability_365 rank</th>\n",
       "      <th>last_review_days rank</th>\n",
       "    </tr>\n",
       "  </thead>\n",
       "  <tbody>\n",
       "    <tr>\n",
       "      <th>0</th>\n",
       "      <td>Cluster Group 0</td>\n",
       "      <td>5</td>\n",
       "      <td>1</td>\n",
       "      <td>5</td>\n",
       "      <td>2</td>\n",
       "      <td>2</td>\n",
       "      <td>2</td>\n",
       "      <td>2</td>\n",
       "    </tr>\n",
       "    <tr>\n",
       "      <th>1</th>\n",
       "      <td>Cluster Group 1</td>\n",
       "      <td>1</td>\n",
       "      <td>5</td>\n",
       "      <td>2</td>\n",
       "      <td>3</td>\n",
       "      <td>3</td>\n",
       "      <td>3</td>\n",
       "      <td>0</td>\n",
       "    </tr>\n",
       "    <tr>\n",
       "      <th>2</th>\n",
       "      <td>Cluster Group 2</td>\n",
       "      <td>4</td>\n",
       "      <td>4</td>\n",
       "      <td>3</td>\n",
       "      <td>0</td>\n",
       "      <td>0</td>\n",
       "      <td>0</td>\n",
       "      <td>1</td>\n",
       "    </tr>\n",
       "    <tr>\n",
       "      <th>3</th>\n",
       "      <td>Cluster Group 3</td>\n",
       "      <td>2</td>\n",
       "      <td>0</td>\n",
       "      <td>0</td>\n",
       "      <td>1</td>\n",
       "      <td>4</td>\n",
       "      <td>4</td>\n",
       "      <td>3</td>\n",
       "    </tr>\n",
       "    <tr>\n",
       "      <th>4</th>\n",
       "      <td>Cluster Group 4</td>\n",
       "      <td>3</td>\n",
       "      <td>2</td>\n",
       "      <td>1</td>\n",
       "      <td>5</td>\n",
       "      <td>1</td>\n",
       "      <td>5</td>\n",
       "      <td>4</td>\n",
       "    </tr>\n",
       "    <tr>\n",
       "      <th>5</th>\n",
       "      <td>Cluster Group 5</td>\n",
       "      <td>0</td>\n",
       "      <td>3</td>\n",
       "      <td>4</td>\n",
       "      <td>4</td>\n",
       "      <td>5</td>\n",
       "      <td>1</td>\n",
       "      <td>5</td>\n",
       "    </tr>\n",
       "  </tbody>\n",
       "</table>\n",
       "</div>"
      ],
      "text/plain": [
       "              name  price rank  minimum_nights rank  number_of_reviews rank  \\\n",
       "0  Cluster Group 0           5                    1                       5   \n",
       "1  Cluster Group 1           1                    5                       2   \n",
       "2  Cluster Group 2           4                    4                       3   \n",
       "3  Cluster Group 3           2                    0                       0   \n",
       "4  Cluster Group 4           3                    2                       1   \n",
       "5  Cluster Group 5           0                    3                       4   \n",
       "\n",
       "   reviews_per_month rank  calculated_host_listings_count rank  \\\n",
       "0                       2                                    2   \n",
       "1                       3                                    3   \n",
       "2                       0                                    0   \n",
       "3                       1                                    4   \n",
       "4                       5                                    1   \n",
       "5                       4                                    5   \n",
       "\n",
       "   availability_365 rank  last_review_days rank  \n",
       "0                      2                      2  \n",
       "1                      3                      0  \n",
       "2                      0                      1  \n",
       "3                      4                      3  \n",
       "4                      5                      4  \n",
       "5                      1                      5  "
      ]
     },
     "execution_count": 46,
     "metadata": {},
     "output_type": "execute_result"
    }
   ],
   "source": [
    "for x in criterion:\n",
    "    y = str(x) + ' rank'\n",
    "    cluster_sc[y] = cluster_sc.reset_index().sort_values(by = x).reset_index()['level_0']\n",
    "cluster_rank = cluster_sc.iloc[:, 9:]\n",
    "cluster_rank"
   ]
  },
  {
   "cell_type": "code",
   "execution_count": 44,
   "metadata": {},
   "outputs": [],
   "source": [
    "def recommend(factors:list, weight:list, quant):\n",
    "    factors_adj = []\n",
    "    for a in factors:\n",
    "        factors_adj.append(str(a) + ' rank')\n",
    "    \n",
    "    recomm_cluster = pd.DataFrame((cluster_rank[factors_adj]*weight).sum(axis = 1).sort_values(ascending = False))\n",
    "    recomm_cluster_lst = recomm_cluster[recomm_cluster[0] == float(recomm_cluster.max().values)].index.tolist()\n",
    "    recommended = []\n",
    "    c_quant = round(quant/len(recomm_cluster_lst))\n",
    "    for x in recomm_cluster_lst:\n",
    "        recommended.append(df_final[df_final['cluster'] == x][:c_quant])\n",
    "    return recommended"
   ]
  },
  {
   "cell_type": "markdown",
   "metadata": {},
   "source": [
    "### 3.3 An Example Using the Recommendation System"
   ]
  },
  {
   "cell_type": "markdown",
   "metadata": {},
   "source": [
    "##### 3.31 Modeling the Result"
   ]
  },
  {
   "cell_type": "markdown",
   "metadata": {},
   "source": [
    "Suppose that we have a customer who are sensitive to price and the reviews_per_month equally, what should he or she choose?"
   ]
  },
  {
   "cell_type": "code",
   "execution_count": 51,
   "metadata": {},
   "outputs": [
    {
     "data": {
      "text/html": [
       "<div>\n",
       "<style scoped>\n",
       "    .dataframe tbody tr th:only-of-type {\n",
       "        vertical-align: middle;\n",
       "    }\n",
       "\n",
       "    .dataframe tbody tr th {\n",
       "        vertical-align: top;\n",
       "    }\n",
       "\n",
       "    .dataframe thead th {\n",
       "        text-align: right;\n",
       "    }\n",
       "</style>\n",
       "<table border=\"1\" class=\"dataframe\">\n",
       "  <thead>\n",
       "    <tr style=\"text-align: right;\">\n",
       "      <th></th>\n",
       "      <th>latitude</th>\n",
       "      <th>longitude</th>\n",
       "      <th>price</th>\n",
       "      <th>minimum_nights</th>\n",
       "      <th>number_of_reviews</th>\n",
       "      <th>reviews_per_month</th>\n",
       "      <th>calculated_host_listings_count</th>\n",
       "      <th>availability_365</th>\n",
       "      <th>last_review_days</th>\n",
       "      <th>cluster</th>\n",
       "      <th>name</th>\n",
       "    </tr>\n",
       "  </thead>\n",
       "  <tbody>\n",
       "    <tr>\n",
       "      <th>3</th>\n",
       "      <td>40.68514</td>\n",
       "      <td>-73.95976</td>\n",
       "      <td>89</td>\n",
       "      <td>1</td>\n",
       "      <td>270</td>\n",
       "      <td>4.64</td>\n",
       "      <td>1</td>\n",
       "      <td>194</td>\n",
       "      <td>108</td>\n",
       "      <td>4</td>\n",
       "      <td>Cozy Entire Floor of Brownstone</td>\n",
       "    </tr>\n",
       "    <tr>\n",
       "      <th>5</th>\n",
       "      <td>40.74767</td>\n",
       "      <td>-73.97500</td>\n",
       "      <td>200</td>\n",
       "      <td>3</td>\n",
       "      <td>74</td>\n",
       "      <td>0.59</td>\n",
       "      <td>1</td>\n",
       "      <td>129</td>\n",
       "      <td>121</td>\n",
       "      <td>4</td>\n",
       "      <td>Large Cozy 1 BR Apartment In Midtown East</td>\n",
       "    </tr>\n",
       "    <tr>\n",
       "      <th>7</th>\n",
       "      <td>40.76489</td>\n",
       "      <td>-73.98493</td>\n",
       "      <td>79</td>\n",
       "      <td>2</td>\n",
       "      <td>430</td>\n",
       "      <td>3.47</td>\n",
       "      <td>1</td>\n",
       "      <td>220</td>\n",
       "      <td>119</td>\n",
       "      <td>4</td>\n",
       "      <td>Large Furnished Room Near B'way</td>\n",
       "    </tr>\n",
       "    <tr>\n",
       "      <th>9</th>\n",
       "      <td>40.71344</td>\n",
       "      <td>-73.99037</td>\n",
       "      <td>150</td>\n",
       "      <td>1</td>\n",
       "      <td>160</td>\n",
       "      <td>1.33</td>\n",
       "      <td>4</td>\n",
       "      <td>188</td>\n",
       "      <td>134</td>\n",
       "      <td>4</td>\n",
       "      <td>Cute &amp; Cozy Lower East Side 1 bdrm</td>\n",
       "    </tr>\n",
       "    <tr>\n",
       "      <th>24</th>\n",
       "      <td>40.68371</td>\n",
       "      <td>-73.94028</td>\n",
       "      <td>120</td>\n",
       "      <td>2</td>\n",
       "      <td>88</td>\n",
       "      <td>0.73</td>\n",
       "      <td>2</td>\n",
       "      <td>233</td>\n",
       "      <td>124</td>\n",
       "      <td>4</td>\n",
       "      <td>MAISON DES SIRENES1,bohemian apartment</td>\n",
       "    </tr>\n",
       "  </tbody>\n",
       "</table>\n",
       "</div>"
      ],
      "text/plain": [
       "    latitude  longitude  price  minimum_nights  number_of_reviews  \\\n",
       "3   40.68514  -73.95976     89               1                270   \n",
       "5   40.74767  -73.97500    200               3                 74   \n",
       "7   40.76489  -73.98493     79               2                430   \n",
       "9   40.71344  -73.99037    150               1                160   \n",
       "24  40.68371  -73.94028    120               2                 88   \n",
       "\n",
       "    reviews_per_month  calculated_host_listings_count  availability_365  \\\n",
       "3                4.64                               1               194   \n",
       "5                0.59                               1               129   \n",
       "7                3.47                               1               220   \n",
       "9                1.33                               4               188   \n",
       "24               0.73                               2               233   \n",
       "\n",
       "    last_review_days  cluster                                       name  \n",
       "3                108        4            Cozy Entire Floor of Brownstone  \n",
       "5                121        4  Large Cozy 1 BR Apartment In Midtown East  \n",
       "7                119        4           Large Furnished Room Near B'way   \n",
       "9                134        4         Cute & Cozy Lower East Side 1 bdrm  \n",
       "24               124        4     MAISON DES SIRENES1,bohemian apartment  "
      ]
     },
     "execution_count": 51,
     "metadata": {},
     "output_type": "execute_result"
    }
   ],
   "source": [
    "factors = ['price','reviews_per_month']\n",
    "weight = [0.5,0.5]\n",
    "\n",
    "recommended = recommend(factors, weight , 100)\n",
    "pd.concat(recommended, axis = 0).head()"
   ]
  },
  {
   "cell_type": "code",
   "execution_count": 65,
   "metadata": {},
   "outputs": [
    {
     "name": "stdout",
     "output_type": "stream",
     "text": [
      "number of clusters recommended:  1\n",
      "the clusters recommended:  [4]\n"
     ]
    }
   ],
   "source": [
    "cluster_recommended = pd.concat(recommended, axis = 0)['cluster'].unique()\n",
    "\n",
    "print('number of clusters recommended: ', pd.concat(recommended, axis = 0)['cluster'].nunique())\n",
    "print('the clusters recommended: ', cluster_recommended)"
   ]
  },
  {
   "cell_type": "markdown",
   "metadata": {},
   "source": [
    "Let's visualize it!"
   ]
  },
  {
   "cell_type": "code",
   "execution_count": 63,
   "metadata": {},
   "outputs": [
    {
     "data": {
      "text/html": [
       "<div style=\"width:100%;\"><div style=\"position:relative;width:100%;height:0;padding-bottom:60%;\"><iframe src=\"data:text/html;charset=utf-8;base64,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\" style=\"position:absolute;width:100%;height:100%;left:0;top:0;border:none !important;\" allowfullscreen webkitallowfullscreen mozallowfullscreen></iframe></div></div>"
      ],
      "text/plain": [
       "<folium.folium.Map at 0x22c5fb48b00>"
      ]
     },
     "execution_count": 63,
     "metadata": {},
     "output_type": "execute_result"
    }
   ],
   "source": [
    "m = folium.Map(location=[df['latitude'].mean(), df['longitude'].mean()], zoom_start = 12)\n",
    "colors = []\n",
    "for color in folium.map.Icon().color_options:\n",
    "    colors.append(color)\n",
    "for c in range(len(recommended)):\n",
    "\n",
    "    for x,y,n in recommended[c][['latitude', 'longitude',  'name']].values.tolist():\n",
    "        folium.Marker([x,y], tooltip=n, icon=folium.Icon(color = colors[c])).add_to(m)\n",
    "\n",
    "m"
   ]
  },
  {
   "cell_type": "markdown",
   "metadata": {},
   "source": [
    "##### 3.32 Result and Analysis"
   ]
  },
  {
   "cell_type": "code",
   "execution_count": 109,
   "metadata": {},
   "outputs": [
    {
     "name": "stdout",
     "output_type": "stream",
     "text": [
      "cluster_recommended:  [4]\n"
     ]
    }
   ],
   "source": [
    "print('cluster_recommended: ' ,cluster_recommended)\n"
   ]
  },
  {
   "cell_type": "code",
   "execution_count": 107,
   "metadata": {},
   "outputs": [
    {
     "data": {
      "text/plain": [
       "<matplotlib.axes._subplots.AxesSubplot at 0x22c613b2908>"
      ]
     },
     "execution_count": 107,
     "metadata": {},
     "output_type": "execute_result"
    },
    {
     "data": {
      "image/png": "[encoded data removed]",
      "text/plain": [
       "<Figure size 432x288 with 1 Axes>"
      ]
     },
     "metadata": {
      "needs_background": "light"
     },
     "output_type": "display_data"
    }
   ],
   "source": [
    "cluster_rank.iloc[4,1:].plot.bar()"
   ]
  },
  {
   "cell_type": "markdown",
   "metadata": {},
   "source": [
    "The cluster 4 has a really well reviews per month score and a relatively good price sccore.\n",
    "\n",
    "Note that the in the chart the Y-axis is the score value of the rank, and 5 means the cluster is the best in this particular aspect."
   ]
  },
  {
   "cell_type": "markdown",
   "metadata": {},
   "source": [
    "As the map suggests, if the customer cares about both price and the review, there are a variety of choices. On manhattan, the majority of the recommendations lies on East Village, where the housing price is relatively better. At the same time, per the personal experience, there are a lot of housing available in East Village as well. The community is cozy and quiet, and is very nice to live in. It's no wonder why it has the best score in the number of review, which suggests about the popularity of a place.\n",
    "\n",
    "In Brooklyn, the maojority lies in Williamsburg and Downtown Brooklyn. Both are very popular place nowadays even for New Yorkers to live, and the price is much lower than on the manhattan.\n"
   ]
  },
  {
   "cell_type": "markdown",
   "metadata": {},
   "source": [
    "# 4. Conclusion"
   ]
  },
  {
   "cell_type": "markdown",
   "metadata": {},
   "source": [
    "The purpose of this project is to build a model that could provide insights for people looking for airbnb in NYC through clustering analysis. The data comes mainly from Kaggle and the model is built mainly on Scikit-Learn. \n",
    "\n",
    "The recommendation system is based on clustering analysis. We use this version because we don't have access to enough data to make a content based filtering or collaborative filtering. As a result, we applied Clustering method of KMeans to group the choices, and then use weighted score depending on customer needs to choose the cluster. This isn't the most accurate way but it could provide insights for customers and save their time.Through this clustering analysis, customer could add their preference on the community by focusing on the area that they are interested in. The final decision would be made based on customer's other consideration\n",
    "\n",
    "\n",
    "The model could be further improved by mining more data and features. For example, how long does it take to go from the house to the main tourist sites? How many good restaurant are there within reach? What's the safety issue there? More data could improve the clusters.\n",
    "\n"
   ]
  },
  {
   "cell_type": "markdown",
   "metadata": {},
   "source": []
  }
 ],
 "metadata": {
  "kernelspec": {
   "display_name": "Python 3",
   "language": "python",
   "name": "python3"
  },
  "language_info": {
   "codemirror_mode": {
    "name": "ipython",
    "version": 3
   },
   "file_extension": ".py",
   "mimetype": "text/x-python",
   "name": "python",
   "nbconvert_exporter": "python",
   "pygments_lexer": "ipython3",
   "version": "3.7.3"
  }
 },
 "nbformat": 4,
 "nbformat_minor": 2
}
